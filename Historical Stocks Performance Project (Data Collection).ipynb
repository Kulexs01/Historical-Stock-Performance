{
 "cells": [
  {
   "cell_type": "code",
   "execution_count": 1,
   "id": "2b393602-aa08-4205-a2e3-51c6c6824d92",
   "metadata": {},
   "outputs": [
    {
     "name": "stdout",
     "output_type": "stream",
     "text": [
      "Collecting psycopg2-binaryNote: you may need to restart the kernel to use updated packages.\n",
      "\n",
      "  Downloading psycopg2_binary-2.9.10-cp312-cp312-win_amd64.whl.metadata (5.0 kB)\n",
      "Downloading psycopg2_binary-2.9.10-cp312-cp312-win_amd64.whl (1.2 MB)\n",
      "   ---------------------------------------- 0.0/1.2 MB ? eta -:--:--\n",
      "   ---------------------------------------- 0.0/1.2 MB ? eta -:--:--\n",
      "   ---------------------------------------- 0.0/1.2 MB ? eta -:--:--\n",
      "   ------------------ --------------------- 0.5/1.2 MB 1.9 MB/s eta 0:00:01\n",
      "   ------------------------------------ --- 1.0/1.2 MB 3.0 MB/s eta 0:00:01\n",
      "   ---------------------------------------- 1.2/1.2 MB 1.7 MB/s eta 0:00:00\n",
      "Installing collected packages: psycopg2-binary\n",
      "Successfully installed psycopg2-binary-2.9.10\n"
     ]
    }
   ],
   "source": [
    "pip install psycopg2-binary"
   ]
  },
  {
   "cell_type": "code",
   "execution_count": 17,
   "id": "bfaf8072-caa1-4866-993c-b7d4a5da4a74",
   "metadata": {},
   "outputs": [],
   "source": [
    "import pandas as pd\n",
    "import psycopg2 as pg2\n",
    "import os\n",
    "\n",
    "# PostgreSQL connection\n",
    "conn = pg2.connect(\n",
    "    dbname=\"stocks_db\",\n",
    "    user=\"postgres\",  \n",
    "    password=\"password\", \n",
    "    host=\"localhost\",\n",
    "    port=\"5432\"\n",
    ")\n",
    "cur = conn.cursor() "
   ]
  },
  {
   "cell_type": "code",
   "execution_count": 18,
   "id": "e0447816-e004-4d4e-91b2-b0d8b9bb375c",
   "metadata": {},
   "outputs": [],
   "source": [
    "# Directory with stock .txt files\n",
    "data_dir = \"C:/Users/HP/Downloads/Huge Stock Market Dataset/Stocks\"\n",
    "tickers = [\"aapl.us\", \"msft.us\", \"googl.us\", \"amzn.us\", \"tsla.us\"]\n",
    "\n",
    "# Load each ticker into the table\n",
    "for ticker in tickers:\n",
    "    df = pd.read_csv(os.path.join(data_dir, f\"{ticker}.txt\"))\n",
    "    df[\"Ticker\"] = ticker.split(\".\")[0].upper()  # Add ticker column\n",
    "    for index, row in df.iterrows():\n",
    "        cur.execute(\"\"\"\n",
    "            INSERT INTO stock_prices (Date, Open, High, Low, Close, Volume, Adjusted_Close, Ticker)\n",
    "            VALUES (%s, %s, %s, %s, %s, %s, %s, %s)\n",
    "        \"\"\", (row[\"Date\"], row[\"Open\"], row[\"High\"], row[\"Low\"], row[\"Close\"], row[\"Volume\"], row[\"Open\"], row[\"Ticker\"]))\n",
    "    conn.commit()"
   ]
  },
  {
   "cell_type": "code",
   "execution_count": 20,
   "id": "614ebe0c-d575-4424-8048-e1faa409862a",
   "metadata": {},
   "outputs": [],
   "source": [
    "cur.close()\n",
    "conn.close()"
   ]
  },
  {
   "cell_type": "code",
   "execution_count": 11,
   "id": "1027d831-b20e-4d6f-a639-b98eda6c5eeb",
   "metadata": {},
   "outputs": [
    {
     "name": "stdout",
     "output_type": "stream",
     "text": [
      "Collecting yfinance\n",
      "  Downloading yfinance-0.2.54-py2.py3-none-any.whl.metadata (5.8 kB)\n",
      "Requirement already satisfied: pandas>=1.3.0 in c:\\users\\hp\\anaconda3\\lib\\site-packages (from yfinance) (2.2.2)\n",
      "Requirement already satisfied: numpy>=1.16.5 in c:\\users\\hp\\anaconda3\\lib\\site-packages (from yfinance) (1.26.4)\n",
      "Requirement already satisfied: requests>=2.31 in c:\\users\\hp\\anaconda3\\lib\\site-packages (from yfinance) (2.32.3)\n",
      "Collecting multitasking>=0.0.7 (from yfinance)\n",
      "  Downloading multitasking-0.0.11-py3-none-any.whl.metadata (5.5 kB)\n",
      "Requirement already satisfied: platformdirs>=2.0.0 in c:\\users\\hp\\anaconda3\\lib\\site-packages (from yfinance) (3.10.0)\n",
      "Requirement already satisfied: pytz>=2022.5 in c:\\users\\hp\\anaconda3\\lib\\site-packages (from yfinance) (2024.1)\n",
      "Requirement already satisfied: frozendict>=2.3.4 in c:\\users\\hp\\anaconda3\\lib\\site-packages (from yfinance) (2.4.2)\n",
      "Collecting peewee>=3.16.2 (from yfinance)\n",
      "  Downloading peewee-3.17.9.tar.gz (3.0 MB)\n",
      "     ---------------------------------------- 0.0/3.0 MB ? eta -:--:--\n",
      "     ---------------------------------------- 0.0/3.0 MB ? eta -:--:--\n",
      "     --- ------------------------------------ 0.3/3.0 MB ? eta -:--:--\n",
      "     ---------- ----------------------------- 0.8/3.0 MB 1.5 MB/s eta 0:00:02\n",
      "     -------------------- ------------------- 1.6/3.0 MB 2.1 MB/s eta 0:00:01\n",
      "     --------------------------- ------------ 2.1/3.0 MB 2.3 MB/s eta 0:00:01\n",
      "     -------------------------------------- - 2.9/3.0 MB 2.6 MB/s eta 0:00:01\n",
      "     ---------------------------------------- 3.0/3.0 MB 2.5 MB/s eta 0:00:00\n",
      "  Installing build dependencies: started\n",
      "  Installing build dependencies: finished with status 'done'\n",
      "  Getting requirements to build wheel: started\n",
      "  Getting requirements to build wheel: finished with status 'done'\n",
      "  Preparing metadata (pyproject.toml): started\n",
      "  Preparing metadata (pyproject.toml): finished with status 'done'\n",
      "Requirement already satisfied: beautifulsoup4>=4.11.1 in c:\\users\\hp\\anaconda3\\lib\\site-packages (from yfinance) (4.12.3)\n",
      "Requirement already satisfied: soupsieve>1.2 in c:\\users\\hp\\anaconda3\\lib\\site-packages (from beautifulsoup4>=4.11.1->yfinance) (2.5)\n",
      "Requirement already satisfied: python-dateutil>=2.8.2 in c:\\users\\hp\\anaconda3\\lib\\site-packages (from pandas>=1.3.0->yfinance) (2.9.0.post0)\n",
      "Requirement already satisfied: tzdata>=2022.7 in c:\\users\\hp\\anaconda3\\lib\\site-packages (from pandas>=1.3.0->yfinance) (2023.3)\n",
      "Requirement already satisfied: charset-normalizer<4,>=2 in c:\\users\\hp\\anaconda3\\lib\\site-packages (from requests>=2.31->yfinance) (3.3.2)\n",
      "Requirement already satisfied: idna<4,>=2.5 in c:\\users\\hp\\anaconda3\\lib\\site-packages (from requests>=2.31->yfinance) (3.7)\n",
      "Requirement already satisfied: urllib3<3,>=1.21.1 in c:\\users\\hp\\anaconda3\\lib\\site-packages (from requests>=2.31->yfinance) (2.2.3)\n",
      "Requirement already satisfied: certifi>=2017.4.17 in c:\\users\\hp\\anaconda3\\lib\\site-packages (from requests>=2.31->yfinance) (2025.1.31)\n",
      "Requirement already satisfied: six>=1.5 in c:\\users\\hp\\anaconda3\\lib\\site-packages (from python-dateutil>=2.8.2->pandas>=1.3.0->yfinance) (1.16.0)\n",
      "Downloading yfinance-0.2.54-py2.py3-none-any.whl (108 kB)\n",
      "Downloading multitasking-0.0.11-py3-none-any.whl (8.5 kB)\n",
      "Building wheels for collected packages: peewee\n",
      "  Building wheel for peewee (pyproject.toml): started\n",
      "  Building wheel for peewee (pyproject.toml): finished with status 'done'\n",
      "  Created wheel for peewee: filename=peewee-3.17.9-py3-none-any.whl size=139096 sha256=0728e6b0a784bea9ce4b3d32ecd959d11f5c12c3c3c757208bffc6673cdd2f60\n",
      "  Stored in directory: c:\\users\\hp\\appdata\\local\\pip\\cache\\wheels\\43\\ef\\2d\\2c51d496bf084945ffdf838b4cc8767b8ba1cc20eb41588831\n",
      "Successfully built peewee\n",
      "Installing collected packages: peewee, multitasking, yfinance\n",
      "Successfully installed multitasking-0.0.11 peewee-3.17.9 yfinance-0.2.54\n",
      "Note: you may need to restart the kernel to use updated packages.\n"
     ]
    }
   ],
   "source": [
    "pip install yfinance"
   ]
  },
  {
   "cell_type": "code",
   "execution_count": 13,
   "id": "f3f42331-91c2-4110-bc70-2bf1ab7a0add",
   "metadata": {},
   "outputs": [
    {
     "name": "stdout",
     "output_type": "stream",
     "text": [
      "[]\n"
     ]
    }
   ],
   "source": [
    "conn = psycopg2.connect(\n",
    "    dbname=\"stocks_db\",\n",
    "    user=\"postgres\",\n",
    "    password=\"password\",\n",
    "    host=\"localhost\",\n",
    "    port=\"5432\"\n",
    ")\n",
    "cur = conn.cursor()\n",
    "cur.execute(\"SELECT column_name, constraint_name FROM information_schema.key_column_usage WHERE table_name = 'stock_prices';\")\n",
    "print(cur.fetchall())\n",
    "cur.close()\n",
    "conn.close()"
   ]
  },
  {
   "cell_type": "code",
   "execution_count": 15,
   "id": "d03b743c-00c5-4ed5-8d96-2ed08ba27219",
   "metadata": {},
   "outputs": [],
   "source": [
    "conn = psycopg2.connect(\n",
    "    dbname=\"stocks_db\",\n",
    "    user=\"postgres\",\n",
    "    password=\"password\",\n",
    "    host=\"localhost\",\n",
    "    port=\"5432\"\n",
    ")\n",
    "cur = conn.cursor()\n",
    "cur.execute(\"DROP TABLE IF EXISTS stock_prices;\")\n",
    "cur.execute(\"\"\"\n",
    "    CREATE TABLE stock_prices (\n",
    "        Date DATE,\n",
    "        Open NUMERIC,\n",
    "        High NUMERIC,\n",
    "        Low NUMERIC,\n",
    "        Close NUMERIC,\n",
    "        Volume BIGINT,\n",
    "        Adjusted_Close NUMERIC,\n",
    "        Ticker VARCHAR(10),\n",
    "        PRIMARY KEY (Date, Ticker)\n",
    "    );\n",
    "\"\"\")\n",
    "conn.commit()\n",
    "cur.close()\n",
    "conn.close()"
   ]
  },
  {
   "cell_type": "code",
   "execution_count": 27,
   "id": "dfe141c6-540d-4ae1-ad55-9e764249b3c1",
   "metadata": {},
   "outputs": [
    {
     "name": "stderr",
     "output_type": "stream",
     "text": [
      "[*********************100%***********************]  1 of 1 completed\n",
      "Failed to get ticker 'MSFT' reason: HTTPSConnectionPool(host='query2.finance.yahoo.com', port=443): Read timed out. (read timeout=10)\n",
      "[*********************100%***********************]  1 of 1 completed\n",
      "\n",
      "1 Failed download:\n",
      "['MSFT']: YFTzMissingError('possibly delisted; no timezone found')\n",
      "[*********************100%***********************]  1 of 1 completed\n",
      "[*********************100%***********************]  1 of 1 completed\n",
      "[*********************100%***********************]  1 of 1 completed\n"
     ]
    }
   ],
   "source": [
    "import yfinance as yf\n",
    "import psycopg2\n",
    "\n",
    "conn = psycopg2.connect(\n",
    "    dbname=\"stocks_db\",\n",
    "    user=\"postgres\",\n",
    "    password=\"password\",\n",
    "    host=\"localhost\",\n",
    "    port=\"5432\"\n",
    ")\n",
    "cur = conn.cursor()\n",
    "\n",
    "tickers = [\"AAPL\", \"MSFT\", \"GOOGL\", \"AMZN\", \"TSLA\"]\n",
    "for ticker in tickers:\n",
    "    df = yf.download(ticker, start=\"2017-11-11\", end=\"2025-03-13\", auto_adjust=False)\n",
    "    df[\"Ticker\"] = ticker\n",
    "    for index, row in df.iterrows():\n",
    "        cur.execute(\"\"\"\n",
    "            INSERT INTO stock_prices (Date, Open, High, Low, Close, Volume, Adjusted_Close, Ticker)\n",
    "            VALUES (%s, %s, %s, %s, %s, %s, %s, %s)\n",
    "            ON CONFLICT (Date, Ticker) DO UPDATE SET\n",
    "                Open = EXCLUDED.Open,\n",
    "                High = EXCLUDED.High,\n",
    "                Low = EXCLUDED.Low,\n",
    "                Close = EXCLUDED.Close,\n",
    "                Volume = EXCLUDED.Volume,\n",
    "                Adjusted_Close = EXCLUDED.Adjusted_Close\n",
    "        \"\"\", (\n",
    "            index.date(),\n",
    "            row[\"Open\"].item(),\n",
    "            row[\"High\"].item(),\n",
    "            row[\"Low\"].item(),\n",
    "            row[\"Close\"].item(),\n",
    "            int(row[\"Volume\"].item()),\n",
    "            row[\"Adj Close\"].item(),\n",
    "            ticker\n",
    "        ))\n",
    "    conn.commit()\n",
    "\n",
    "cur.close()\n",
    "conn.close()"
   ]
  },
  {
   "cell_type": "markdown",
   "id": "0b4f81c3-04f9-44b9-8409-9e41f4db5d5c",
   "metadata": {},
   "source": [
    "Handle timeouts by increasing the timeout duration and adding retries.\n",
    "\n",
    "Verify MSFT data separately to rule out persistent issues."
   ]
  },
  {
   "cell_type": "code",
   "execution_count": 29,
   "id": "10731095-cd18-42cd-9229-75ec55265a37",
   "metadata": {
    "scrolled": true
   },
   "outputs": [
    {
     "name": "stderr",
     "output_type": "stream",
     "text": [
      "[*********************100%***********************]  1 of 1 completed\n"
     ]
    },
    {
     "name": "stdout",
     "output_type": "stream",
     "text": [
      "Loaded data for AAPL\n"
     ]
    },
    {
     "name": "stderr",
     "output_type": "stream",
     "text": [
      "[*********************100%***********************]  1 of 1 completed\n"
     ]
    },
    {
     "name": "stdout",
     "output_type": "stream",
     "text": [
      "Loaded data for MSFT\n"
     ]
    },
    {
     "name": "stderr",
     "output_type": "stream",
     "text": [
      "[*********************100%***********************]  1 of 1 completed\n"
     ]
    },
    {
     "name": "stdout",
     "output_type": "stream",
     "text": [
      "Loaded data for GOOGL\n"
     ]
    },
    {
     "name": "stderr",
     "output_type": "stream",
     "text": [
      "[*********************100%***********************]  1 of 1 completed\n"
     ]
    },
    {
     "name": "stdout",
     "output_type": "stream",
     "text": [
      "Loaded data for AMZN\n"
     ]
    },
    {
     "name": "stderr",
     "output_type": "stream",
     "text": [
      "[*********************100%***********************]  1 of 1 completed\n"
     ]
    },
    {
     "name": "stdout",
     "output_type": "stream",
     "text": [
      "Loaded data for TSLA\n"
     ]
    }
   ],
   "source": [
    "import yfinance as yf\n",
    "import psycopg2\n",
    "import time\n",
    "\n",
    "# Connect to PostgreSQL\n",
    "conn = psycopg2.connect(\n",
    "    dbname=\"stocks_db\",\n",
    "    user=\"postgres\",\n",
    "    password=\"password\", \n",
    "    host=\"localhost\",\n",
    "    port=\"5432\"\n",
    ")\n",
    "cur = conn.cursor()\n",
    "\n",
    "tickers = [\"AAPL\", \"MSFT\", \"GOOGL\", \"AMZN\", \"TSLA\"]\n",
    "for ticker in tickers:\n",
    "    retries = 3\n",
    "    for attempt in range(retries):\n",
    "        try:\n",
    "            # Increase timeout and disable auto_adjust\n",
    "            df = yf.download(ticker, start=\"2017-11-11\", end=\"2025-03-13\", auto_adjust=False, timeout=30)\n",
    "            if df.empty:\n",
    "                print(f\"No data returned for {ticker}\")\n",
    "                break\n",
    "            df[\"Ticker\"] = ticker\n",
    "            for index, row in df.iterrows():\n",
    "                cur.execute(\"\"\"\n",
    "                    INSERT INTO stock_prices (Date, Open, High, Low, Close, Volume, Adjusted_Close, Ticker)\n",
    "                    VALUES (%s, %s, %s, %s, %s, %s, %s, %s)\n",
    "                    ON CONFLICT (Date, Ticker) DO UPDATE SET\n",
    "                        Open = EXCLUDED.Open,\n",
    "                        High = EXCLUDED.High,\n",
    "                        Low = EXCLUDED.Low,\n",
    "                        Close = EXCLUDED.Close,\n",
    "                        Volume = EXCLUDED.Volume,\n",
    "                        Adjusted_Close = EXCLUDED.Adjusted_Close\n",
    "                \"\"\", (\n",
    "                    index.date(),\n",
    "                    row[\"Open\"].item(),\n",
    "                    row[\"High\"].item(),\n",
    "                    row[\"Low\"].item(),\n",
    "                    row[\"Close\"].item(),\n",
    "                    int(row[\"Volume\"].item()),\n",
    "                    row[\"Adj Close\"].item(),\n",
    "                    ticker\n",
    "                ))\n",
    "            conn.commit()\n",
    "            print(f\"Loaded data for {ticker}\")\n",
    "            break  # Exit retry loop on success\n",
    "        except Exception as e:\n",
    "            print(f\"Attempt {attempt + 1} failed for {ticker}: {e}\")\n",
    "            if attempt < retries - 1:\n",
    "                time.sleep(5)  # Wait before retrying\n",
    "            else:\n",
    "                print(f\"Failed to load {ticker} after {retries} attempts\")\n",
    "                continue\n",
    "\n",
    "cur.close()\n",
    "conn.close()"
   ]
  },
  {
   "cell_type": "code",
   "execution_count": 31,
   "id": "4faa05c3-aab7-4733-8dad-0adfd2b6944f",
   "metadata": {},
   "outputs": [
    {
     "name": "stdout",
     "output_type": "stream",
     "text": [
      "Tickers in database: [('AMZN',), ('AAPL',), ('GOOGL',), ('MSFT',), ('TSLA',)]\n",
      "Latest MSFT date: [(datetime.date(2025, 3, 12),)]\n"
     ]
    }
   ],
   "source": [
    "#This confirms which tickers loaded and if MSFT data made it in.\n",
    "conn = psycopg2.connect(\n",
    "    dbname=\"stocks_db\",\n",
    "    user=\"postgres\",\n",
    "    password=\"password\",\n",
    "    host=\"localhost\",\n",
    "    port=\"5432\"\n",
    ")\n",
    "cur = conn.cursor()\n",
    "cur.execute(\"SELECT DISTINCT Ticker FROM stock_prices;\")\n",
    "print(\"Tickers in database:\", cur.fetchall())\n",
    "cur.execute(\"SELECT MAX(Date) FROM stock_prices WHERE Ticker = 'MSFT';\")\n",
    "print(\"Latest MSFT date:\", cur.fetchall())\n",
    "cur.close()\n",
    "conn.close()"
   ]
  },
  {
   "cell_type": "markdown",
   "id": "056f9fc7-8db4-4a53-98d7-d00813d90f4d",
   "metadata": {},
   "source": [
    "Extracting 2015 - 2025 data"
   ]
  },
  {
   "cell_type": "code",
   "execution_count": 37,
   "id": "e5835c78-28bb-41a5-a718-5bd0ccfa4152",
   "metadata": {},
   "outputs": [
    {
     "name": "stderr",
     "output_type": "stream",
     "text": [
      "C:\\Users\\HP\\AppData\\Local\\Temp\\ipykernel_4288\\1211015042.py:18: UserWarning: pandas only supports SQLAlchemy connectable (engine/connection) or database string URI or sqlite3 DBAPI2 connection. Other DBAPI2 objects are not tested. Please consider using SQLAlchemy.\n",
      "  df = pd.read_sql(query, conn)\n"
     ]
    }
   ],
   "source": [
    "import psycopg2 as pg2\n",
    "import pandas as pd\n",
    "\n",
    "conn = pg2.connect(\n",
    "    dbname=\"stocks_db\",\n",
    "    user=\"postgres\",\n",
    "    password=\"password\",\n",
    "    host=\"localhost\",\n",
    "    port=\"5432\"\n",
    ")\n",
    "query = \"\"\"\n",
    "    SELECT Ticker, Date, Close, Volume\n",
    "    FROM stock_prices\n",
    "    WHERE Ticker IN ('AAPL', 'MSFT', 'GOOGL', 'AMZN', 'TSLA')\n",
    "    AND Date BETWEEN '2015-01-01' AND '2025-03-12'\n",
    "    ORDER BY Ticker, Date;\n",
    "\"\"\"\n",
    "df = pd.read_sql(query, conn)\n",
    "df.to_csv(\"portfolio_data.csv\", index=False)\n",
    "conn.close()"
   ]
  },
  {
   "cell_type": "code",
   "execution_count": 41,
   "id": "00d47a4f-7309-4c99-9db6-4e9cdd86b9c2",
   "metadata": {},
   "outputs": [],
   "source": [
    "df = pd.read_csv('portfolio_data.csv')"
   ]
  },
  {
   "cell_type": "code",
   "execution_count": 43,
   "id": "b8cec652-422d-4a89-b7d5-2324724876b7",
   "metadata": {},
   "outputs": [
    {
     "data": {
      "text/html": [
       "<div>\n",
       "<style scoped>\n",
       "    .dataframe tbody tr th:only-of-type {\n",
       "        vertical-align: middle;\n",
       "    }\n",
       "\n",
       "    .dataframe tbody tr th {\n",
       "        vertical-align: top;\n",
       "    }\n",
       "\n",
       "    .dataframe thead th {\n",
       "        text-align: right;\n",
       "    }\n",
       "</style>\n",
       "<table border=\"1\" class=\"dataframe\">\n",
       "  <thead>\n",
       "    <tr style=\"text-align: right;\">\n",
       "      <th></th>\n",
       "      <th>ticker</th>\n",
       "      <th>date</th>\n",
       "      <th>close</th>\n",
       "      <th>volume</th>\n",
       "    </tr>\n",
       "  </thead>\n",
       "  <tbody>\n",
       "    <tr>\n",
       "      <th>0</th>\n",
       "      <td>AAPL</td>\n",
       "      <td>2015-01-02</td>\n",
       "      <td>103.50</td>\n",
       "      <td>56196458</td>\n",
       "    </tr>\n",
       "    <tr>\n",
       "      <th>1</th>\n",
       "      <td>AAPL</td>\n",
       "      <td>2015-01-05</td>\n",
       "      <td>100.58</td>\n",
       "      <td>67880159</td>\n",
       "    </tr>\n",
       "    <tr>\n",
       "      <th>2</th>\n",
       "      <td>AAPL</td>\n",
       "      <td>2015-01-06</td>\n",
       "      <td>100.59</td>\n",
       "      <td>69460979</td>\n",
       "    </tr>\n",
       "    <tr>\n",
       "      <th>3</th>\n",
       "      <td>AAPL</td>\n",
       "      <td>2015-01-07</td>\n",
       "      <td>102.01</td>\n",
       "      <td>42324520</td>\n",
       "    </tr>\n",
       "    <tr>\n",
       "      <th>4</th>\n",
       "      <td>AAPL</td>\n",
       "      <td>2015-01-08</td>\n",
       "      <td>105.93</td>\n",
       "      <td>62679241</td>\n",
       "    </tr>\n",
       "  </tbody>\n",
       "</table>\n",
       "</div>"
      ],
      "text/plain": [
       "  ticker        date   close    volume\n",
       "0   AAPL  2015-01-02  103.50  56196458\n",
       "1   AAPL  2015-01-05  100.58  67880159\n",
       "2   AAPL  2015-01-06  100.59  69460979\n",
       "3   AAPL  2015-01-07  102.01  42324520\n",
       "4   AAPL  2015-01-08  105.93  62679241"
      ]
     },
     "execution_count": 43,
     "metadata": {},
     "output_type": "execute_result"
    }
   ],
   "source": [
    "df.head()"
   ]
  },
  {
   "cell_type": "code",
   "execution_count": 45,
   "id": "f8f46c77-7abf-4ed7-8174-084937545bea",
   "metadata": {},
   "outputs": [
    {
     "data": {
      "text/plain": [
       "<bound method DataFrame.info of       ticker        date       close     volume\n",
       "0       AAPL  2015-01-02  103.500000   56196458\n",
       "1       AAPL  2015-01-05  100.580000   67880159\n",
       "2       AAPL  2015-01-06  100.590000   69460979\n",
       "3       AAPL  2015-01-07  102.010000   42324520\n",
       "4       AAPL  2015-01-08  105.930000   62679241\n",
       "...      ...         ...         ...        ...\n",
       "12810   TSLA  2025-03-06  263.450012   98451600\n",
       "12811   TSLA  2025-03-07  262.670013  102369600\n",
       "12812   TSLA  2025-03-10  222.149994  189076900\n",
       "12813   TSLA  2025-03-11  230.580002  174896400\n",
       "12814   TSLA  2025-03-12  248.089996  142215700\n",
       "\n",
       "[12815 rows x 4 columns]>"
      ]
     },
     "execution_count": 45,
     "metadata": {},
     "output_type": "execute_result"
    }
   ],
   "source": [
    "df.info"
   ]
  },
  {
   "cell_type": "code",
   "execution_count": 47,
   "id": "979e2830-baa2-4a37-9239-383da9841de9",
   "metadata": {},
   "outputs": [
    {
     "data": {
      "text/html": [
       "<div>\n",
       "<style scoped>\n",
       "    .dataframe tbody tr th:only-of-type {\n",
       "        vertical-align: middle;\n",
       "    }\n",
       "\n",
       "    .dataframe tbody tr th {\n",
       "        vertical-align: top;\n",
       "    }\n",
       "\n",
       "    .dataframe thead th {\n",
       "        text-align: right;\n",
       "    }\n",
       "</style>\n",
       "<table border=\"1\" class=\"dataframe\">\n",
       "  <thead>\n",
       "    <tr style=\"text-align: right;\">\n",
       "      <th></th>\n",
       "      <th>close</th>\n",
       "      <th>volume</th>\n",
       "    </tr>\n",
       "  </thead>\n",
       "  <tbody>\n",
       "    <tr>\n",
       "      <th>count</th>\n",
       "      <td>12815.000000</td>\n",
       "      <td>1.281500e+04</td>\n",
       "    </tr>\n",
       "    <tr>\n",
       "      <th>mean</th>\n",
       "      <td>215.680296</td>\n",
       "      <td>5.653505e+07</td>\n",
       "    </tr>\n",
       "    <tr>\n",
       "      <th>std</th>\n",
       "      <td>211.510748</td>\n",
       "      <td>5.795422e+07</td>\n",
       "    </tr>\n",
       "    <tr>\n",
       "      <th>min</th>\n",
       "      <td>11.931333</td>\n",
       "      <td>5.211410e+05</td>\n",
       "    </tr>\n",
       "    <tr>\n",
       "      <th>25%</th>\n",
       "      <td>88.211250</td>\n",
       "      <td>2.095500e+07</td>\n",
       "    </tr>\n",
       "    <tr>\n",
       "      <th>50%</th>\n",
       "      <td>148.500000</td>\n",
       "      <td>3.850540e+07</td>\n",
       "    </tr>\n",
       "    <tr>\n",
       "      <th>75%</th>\n",
       "      <td>242.839996</td>\n",
       "      <td>7.751545e+07</td>\n",
       "    </tr>\n",
       "    <tr>\n",
       "      <th>max</th>\n",
       "      <td>1132.880000</td>\n",
       "      <td>9.140820e+08</td>\n",
       "    </tr>\n",
       "  </tbody>\n",
       "</table>\n",
       "</div>"
      ],
      "text/plain": [
       "              close        volume\n",
       "count  12815.000000  1.281500e+04\n",
       "mean     215.680296  5.653505e+07\n",
       "std      211.510748  5.795422e+07\n",
       "min       11.931333  5.211410e+05\n",
       "25%       88.211250  2.095500e+07\n",
       "50%      148.500000  3.850540e+07\n",
       "75%      242.839996  7.751545e+07\n",
       "max     1132.880000  9.140820e+08"
      ]
     },
     "execution_count": 47,
     "metadata": {},
     "output_type": "execute_result"
    }
   ],
   "source": [
    "df.describe()"
   ]
  },
  {
   "cell_type": "code",
   "execution_count": null,
   "id": "d4e021d5-0966-4918-82b0-f57ec3993227",
   "metadata": {},
   "outputs": [],
   "source": []
  }
 ],
 "metadata": {
  "kernelspec": {
   "display_name": "Python [conda env:base] *",
   "language": "python",
   "name": "conda-base-py"
  },
  "language_info": {
   "codemirror_mode": {
    "name": "ipython",
    "version": 3
   },
   "file_extension": ".py",
   "mimetype": "text/x-python",
   "name": "python",
   "nbconvert_exporter": "python",
   "pygments_lexer": "ipython3",
   "version": "3.12.7"
  }
 },
 "nbformat": 4,
 "nbformat_minor": 5
}
